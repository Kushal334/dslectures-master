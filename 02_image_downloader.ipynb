{
 "cells": [
  {
   "cell_type": "code",
   "execution_count": null,
   "metadata": {},
   "outputs": [],
   "source": [
    "# default_exp image_downloader"
   ]
  },
  {
   "cell_type": "markdown",
   "metadata": {},
   "source": [
    "# Image downloader\n",
    "\n",
    "> Useful helper function to download images from Google search. Adapted from the fastai repository ([link](https://github.com/fastai/fastai/blob/eb6b2eab34cc5a65e338df1cec91fb7296981048/fastai/widgets/image_downloader.py))."
   ]
  },
  {
   "cell_type": "code",
   "execution_count": null,
   "metadata": {},
   "outputs": [
    {
     "name": "stdout",
     "output_type": "stream",
     "text": [
      "WARNING: pip is being invoked by an old script wrapper. This will fail in a future version of pip.\n",
      "Please see https://github.com/pypa/pip/issues/5599 for advice on fixing the underlying issue.\n",
      "To avoid this problem you can invoke Python with '-m pip' instead of running pip directly.\n"
     ]
    }
   ],
   "source": [
    "!pip install fastai --no-cache-dir -qq"
   ]
  },
  {
   "cell_type": "code",
   "execution_count": null,
   "metadata": {},
   "outputs": [],
   "source": [
    "!apt-get update -qq\n",
    "!apt-get install chromium-chromedriver -y -qq"
   ]
  },
  {
   "cell_type": "code",
   "execution_count": null,
   "metadata": {},
   "outputs": [],
   "source": [
    "# export\n",
    "try:\n",
    "    from fastai.core import *\n",
    "    from fastai.vision.data import *\n",
    "except:\n",
    "    print(\"fastai not installed. To use the ImageDownloader widget install fastai first.\")\n",
    "from urllib.parse import quote\n",
    "from bs4 import BeautifulSoup\n",
    "from selenium import webdriver\n",
    "from selenium.webdriver.common.keys import Keys\n",
    "import time"
   ]
  },
  {
   "cell_type": "code",
   "execution_count": null,
   "metadata": {},
   "outputs": [],
   "source": [
    "# exports\n",
    "\n",
    "_img_sizes = {'>400*300':'isz:lt,islt:qsvga','>640*480':'isz:lt,islt:vga','>800*600':'isz:lt,islt:svga',\n",
    "              '>1024*768':'visz:lt,islt:xga', '>2MP':'isz:lt,islt:2mp','>4MP':'isz:lt,islt:4mp','>6MP':'isz:lt,islt:6mp',\n",
    "              '>8MP':'isz:lt,islt:8mp', '>10MP':'isz:lt,islt:10mp','>12MP':'isz:lt,islt:12mp','>15MP':'isz:lt,islt:15mp',\n",
    "              '>20MP':'isz:lt,islt:20mp','>40MP':'isz:lt,islt:40mp','>70MP':'isz:lt,islt:70mp'}\n",
    "\n",
    "\n",
    "class ImageDownloader:\n",
    "    def __init__(self, data_path, dataset_name):\n",
    "        \"\"\"The ImageDownloader helps download images from the google image search page\"\"\"\n",
    "        self._path = Path(data_path)\n",
    "        self._dataset_path = self._path/dataset_name\n",
    "        self._dataset_name = dataset_name\n",
    "        \n",
    "        os.makedirs(self._path, exist_ok=True)\n",
    "        os.makedirs(self._dataset_path, exist_ok=True)\n",
    "        \n",
    "    def add_images_to_class(self, class_name, google_query, n_images=1000):\n",
    "        \"\"\"Add new images to the image class with a Google search query.\"\"\"\n",
    "        class_path = self._dataset_path/class_name\n",
    "        url = _search_url(google_query)\n",
    "        html = self.get_google_image_html(url)\n",
    "        img_urls = self.get_img_urls_from_html(html)\n",
    "        print(f'{len(img_urls)} image links found on Google image search for the query \"{google_query}\".')\n",
    "        img_fnames = _download_images(class_path, img_urls)\n",
    "        print(f'{len(img_fnames)} images now available in class {class_name}.')\n",
    "        \n",
    "        \n",
    "    def get_google_image_html(self, url):\n",
    "        \"\"\"Get the html code of the Google Image Search.\"\"\"\n",
    "        options = webdriver.ChromeOptions()\n",
    "        options.add_argument(\"--headless\")\n",
    "        options.add_argument('--no-sandbox')\n",
    "        options.add_argument('--disable-dev-shm-usage')        \n",
    "\n",
    "        try: \n",
    "            driver = webdriver.Chrome(options=options)\n",
    "        except: \n",
    "            print(\"\"\"Error initializing chromedriver. \n",
    "                  Check if it's in your path by running `which chromedriver`\"\"\")\n",
    "        driver.set_window_size(1440, 900)\n",
    "        driver.get(url)\n",
    "        old_height = 0\n",
    "        for i in range(10):\n",
    "            driver.execute_script(\"window.scrollTo(0, document.body.scrollHeight);\")\n",
    "            time.sleep(1.0 + random.random())\n",
    "            new_height = driver.execute_script(\"return document.body.scrollHeight\")\n",
    "            if new_height == old_height:\n",
    "                try:\n",
    "                    button = driver.find_elements_by_xpath(\"//input[@type='button' and @value='Show more results']\")[0]\n",
    "                    button.click()\n",
    "                except:\n",
    "                    pass    \n",
    "            old_height = new_height\n",
    "        return driver.page_source\n",
    "    \n",
    "    def get_img_urls_from_html(self, html):\n",
    "        \"\"\"Extract image urls from html code.\"\"\"\n",
    "        bs = BeautifulSoup(html, 'html.parser')\n",
    "        img_tags = bs.find_all('img')\n",
    "        urls = []\n",
    "        for tag in img_tags:\n",
    "            if tag.has_attr('data-src'):\n",
    "                urls.append(tag['data-src'])\n",
    "        return urls\n",
    "\n",
    "def _download_images(label_path:PathOrStr, img_urls:list, max_workers:int=defaults.cpus, timeout:int=4) -> FilePathList:\n",
    "    \"\"\"\n",
    "    Downloads images in `img_tuples` to `label_path`. \n",
    "    If the directory doesn't exist, it'll be created automatically.\n",
    "    Uses `parallel` to speed things up in `max_workers` when the system has enough CPU cores.\n",
    "    If something doesn't work, try setting up `max_workers=0` to debug.\n",
    "    \"\"\"\n",
    "    os.makedirs(Path(label_path), exist_ok=True)\n",
    "    parallel( partial(_download_single_image, label_path, timeout=timeout), img_urls, max_workers=max_workers)\n",
    "    return get_image_files(label_path)\n",
    "\n",
    "def _download_single_image(label_path:Path, img_url:tuple, i:int, timeout:int=4) -> None:\n",
    "    \"\"\"\n",
    "    Downloads a single image from Google Search results to `label_path`\n",
    "    given an `img_tuple` that contains `(fname, url)` of an image to download.\n",
    "    `i` is just an iteration number `int`. \n",
    "    \"\"\"\n",
    "    fname = img_url.split('%')[1].split('&')[0]+'.png'\n",
    "    download_url(img_url, label_path/fname, timeout=timeout)\n",
    "    \n",
    "def _search_url(search_term:str, size:str='>400*300', format:str='jpg') -> str:\n",
    "    \"Return a Google Images Search URL for a given search term.\"\n",
    "    return ('https://www.google.com/search?q=' + quote(search_term) +\n",
    "            '&espv=2&biw=1366&bih=667&site=webhp&source=lnms&tbm=isch' +\n",
    "            _url_params(size, format) + '&sa=X&ei=XosDVaCXD8TasATItgE&ved=0CAcQ_AUoAg')\n",
    "\n",
    "def _url_params(size:str='>400*300', format:str='jpg') -> str:\n",
    "    \"Build Google Images Search Url params and return them as a string.\"\n",
    "    _fmts = {'jpg':'ift:jpg','gif':'ift:gif','png':'ift:png','bmp':'ift:bmp', 'svg':'ift:svg','webp':'webp','ico':'ift:ico'}\n",
    "    if size not in _img_sizes: \n",
    "        raise RuntimeError(f\"\"\"Unexpected size argument value: {size}.\n",
    "                    See `widgets.image_downloader._img_sizes` for supported sizes.\"\"\") \n",
    "    if format not in _fmts: \n",
    "        raise RuntimeError(f\"Unexpected image file format: {format}. Use jpg, gif, png, bmp, svg, webp, or ico.\")\n",
    "    return \"&tbs=\" + _img_sizes[size] + \",\" + _fmts[format]"
   ]
  },
  {
   "cell_type": "markdown",
   "metadata": {},
   "source": [
    "## Example: Cats vs dogs\n",
    "In this example a new dataset is created and images for cats and dogs are downloaded."
   ]
  },
  {
   "cell_type": "code",
   "execution_count": null,
   "metadata": {},
   "outputs": [],
   "source": [
    "data_path = Path('../data/')\n",
    "dataset_name = 'cats_vs_dogs'\n",
    "\n",
    "img_dl = ImageDownloader(data_path, dataset_name)"
   ]
  },
  {
   "cell_type": "code",
   "execution_count": null,
   "metadata": {},
   "outputs": [
    {
     "name": "stdout",
     "output_type": "stream",
     "text": [
      "597 image links found on Google image search for the query \"cat\".\n"
     ]
    },
    {
     "data": {
      "text/html": [],
      "text/plain": [
       "<IPython.core.display.HTML object>"
      ]
     },
     "metadata": {},
     "output_type": "display_data"
    },
    {
     "name": "stdout",
     "output_type": "stream",
     "text": [
      "597 images now available in class cat.\n"
     ]
    }
   ],
   "source": [
    "class_name = 'cat'\n",
    "search_query = 'cat'\n",
    "\n",
    "img_dl.add_images_to_class(class_name, search_query)"
   ]
  },
  {
   "cell_type": "code",
   "execution_count": null,
   "metadata": {},
   "outputs": [
    {
     "name": "stdout",
     "output_type": "stream",
     "text": [
      "586 image links found on Google image search for the query \"cat funny\".\n"
     ]
    },
    {
     "data": {
      "text/html": [],
      "text/plain": [
       "<IPython.core.display.HTML object>"
      ]
     },
     "metadata": {},
     "output_type": "display_data"
    },
    {
     "name": "stdout",
     "output_type": "stream",
     "text": [
      "1182 images now available in class cat.\n"
     ]
    }
   ],
   "source": [
    "search_query = 'cat funny'\n",
    "\n",
    "img_dl.add_images_to_class(class_name, search_query)"
   ]
  },
  {
   "cell_type": "code",
   "execution_count": null,
   "metadata": {},
   "outputs": [
    {
     "name": "stdout",
     "output_type": "stream",
     "text": [
      "643 image links found on Google image search for the query \"dog\".\n"
     ]
    },
    {
     "data": {
      "text/html": [],
      "text/plain": [
       "<IPython.core.display.HTML object>"
      ]
     },
     "metadata": {},
     "output_type": "display_data"
    },
    {
     "name": "stdout",
     "output_type": "stream",
     "text": [
      "643 images now available in class dog.\n"
     ]
    }
   ],
   "source": [
    "class_name = 'dog'\n",
    "search_query = 'dog'\n",
    "img_dl.add_images_to_class(class_name, search_query)"
   ]
  }
 ],
 "metadata": {
  "kernelspec": {
   "display_name": "Python 3",
   "language": "python",
   "name": "python3"
  }
 },
 "nbformat": 4,
 "nbformat_minor": 4
}
